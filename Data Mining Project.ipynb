{
 "cells": [
  {
   "cell_type": "markdown",
   "id": "d31827c8",
   "metadata": {},
   "source": [
    "# Problem Statement\n",
    "The loan prediction project is aimed at developing a classification model that predicts whether a loan application will be approved or not based on various features such as loan amount, employment status, etc. The primary objective of the project is to build a predictive model that can accurately classify the loan applications as approved or not approved.To achieve this, the project will employ two popular machine learning algorithms, K-Nearest Neighbors (KNN) and Decision Tree Classifier, and then compare the results to determine which algorithm is better suited for the task.\n",
    "\n",
    "The dataset will first be preprocessed to handle any missing or inconsistent data, such as imputing missing values or scaling numerical features. After preprocessing, the dataset will be split into training and testing sets to evaluate the performance of the machine learning models.\n",
    "\n",
    "The KNN algorithm is a popular supervised machine learning algorithm that can be used for both classification and regression tasks. The algorithm works by finding the k-nearest neighbors of a data point based on some similarity metric and then classifying the data point based on the majority class of its neighbors. \n",
    "\n",
    "The Decision Tree Classifier is another popular machine learning algorithm used for classification tasks. The algorithm works by recursively splitting the data based on the feature that provides the most information gain, with the objective of creating a tree that maximizes the separation between the classes. \n",
    "\n",
    "The performance of the KNN and Decision Tree Classifier models will be evaluated based on metrics such as accuracy, precision, recall, and F1 score. These metrics will be used to compare the performance of the two models and determine which algorithm is better suited for the loan prediction task.\n",
    "\n"
   ]
  },
  {
   "cell_type": "markdown",
   "id": "8d031050",
   "metadata": {},
   "source": [
    "# Dataset Description\n",
    "The loan prediction dataset contains 614 rows and 13 columns. <br>\n",
    "\n",
    "The columns in the dataset are:\n",
    "\n",
    "Loan_ID: Unique Loan ID<br>\n",
    "Gender: Male/Female<br>\n",
    "Married: Applicant married (Y/N)<br>\n",
    "Dependents: Number of dependents<br>\n",
    "Education: Applicant Education (Graduate/Under Graduate)<br>\n",
    "Self_Employed: Self-employed (Y/N)<br>\n",
    "ApplicantIncome: Applicant income<br>\n",
    "CoapplicantIncome: Coapplicant income<br>\n",
    "LoanAmount: Loan amount in thousands<br>\n",
    "Loan_Amount_Term: Term of loan in months<br>\n",
    "Credit_History: credit history meets guidelines<br>\n",
    "Property_Area: Urban/Semi-Urban/Rural<br>\n",
    "Loan_Status: Loan approved (Y/N)<br>\n",
    "<br>\n",
    "Source - https://www.kaggle.com/altruistdelhite04/loan-prediction-problem-dataset\n"
   ]
  },
  {
   "cell_type": "markdown",
   "id": "9a84464a",
   "metadata": {},
   "source": [
    "# Task"
   ]
  },
  {
   "cell_type": "markdown",
   "id": "4d3c46a5",
   "metadata": {},
   "source": [
    "## Importing Libraries"
   ]
  },
  {
   "cell_type": "code",
   "execution_count": 138,
   "id": "f0f0f548",
   "metadata": {},
   "outputs": [],
   "source": [
    "import pandas as pd\n",
    "import numpy as np\n",
    "import matplotlib.pyplot as plt\n",
    "from sklearn.preprocessing import OrdinalEncoder\n",
    "from sklearn.neighbors import KNeighborsClassifier\n",
    "from sklearn.model_selection import train_test_split\n",
    "from sklearn.preprocessing import StandardScaler\n",
    "import seaborn as sns\n",
    "from sklearn.tree import DecisionTreeClassifier\n",
    "from sklearn.naive_bayes import GaussianNB\n",
    "from sklearn.metrics import accuracy_score, confusion_matrix,\n",
    "classification_report,precision_score,recall_score, f1_score\n",
    "from tabulate import tabulate\n",
    "import warnings\n",
    "warnings.filterwarnings('ignore')"
   ]
  },
  {
   "cell_type": "markdown",
   "id": "3ddd1613",
   "metadata": {},
   "source": [
    "## Data Exploration and Pre-processing"
   ]
  },
  {
   "cell_type": "code",
   "execution_count": 139,
   "id": "49f5b366",
   "metadata": {},
   "outputs": [
    {
     "data": {
      "text/html": [
       "<div>\n",
       "<style scoped>\n",
       "    .dataframe tbody tr th:only-of-type {\n",
       "        vertical-align: middle;\n",
       "    }\n",
       "\n",
       "    .dataframe tbody tr th {\n",
       "        vertical-align: top;\n",
       "    }\n",
       "\n",
       "    .dataframe thead th {\n",
       "        text-align: right;\n",
       "    }\n",
       "</style>\n",
       "<table border=\"1\" class=\"dataframe\">\n",
       "  <thead>\n",
       "    <tr style=\"text-align: right;\">\n",
       "      <th></th>\n",
       "      <th>Loan_ID</th>\n",
       "      <th>Gender</th>\n",
       "      <th>Married</th>\n",
       "      <th>Dependents</th>\n",
       "      <th>Education</th>\n",
       "      <th>Self_Employed</th>\n",
       "      <th>ApplicantIncome</th>\n",
       "      <th>CoapplicantIncome</th>\n",
       "      <th>LoanAmount</th>\n",
       "      <th>Loan_Amount_Term</th>\n",
       "      <th>Credit_History</th>\n",
       "      <th>Property_Area</th>\n",
       "      <th>Loan_Status</th>\n",
       "    </tr>\n",
       "  </thead>\n",
       "  <tbody>\n",
       "    <tr>\n",
       "      <th>0</th>\n",
       "      <td>LP001002</td>\n",
       "      <td>Male</td>\n",
       "      <td>No</td>\n",
       "      <td>0</td>\n",
       "      <td>Graduate</td>\n",
       "      <td>No</td>\n",
       "      <td>5849</td>\n",
       "      <td>0.0</td>\n",
       "      <td>NaN</td>\n",
       "      <td>360.0</td>\n",
       "      <td>1.0</td>\n",
       "      <td>Urban</td>\n",
       "      <td>Y</td>\n",
       "    </tr>\n",
       "    <tr>\n",
       "      <th>1</th>\n",
       "      <td>LP001003</td>\n",
       "      <td>Male</td>\n",
       "      <td>Yes</td>\n",
       "      <td>1</td>\n",
       "      <td>Graduate</td>\n",
       "      <td>No</td>\n",
       "      <td>4583</td>\n",
       "      <td>1508.0</td>\n",
       "      <td>128.0</td>\n",
       "      <td>360.0</td>\n",
       "      <td>1.0</td>\n",
       "      <td>Rural</td>\n",
       "      <td>N</td>\n",
       "    </tr>\n",
       "    <tr>\n",
       "      <th>2</th>\n",
       "      <td>LP001005</td>\n",
       "      <td>Male</td>\n",
       "      <td>Yes</td>\n",
       "      <td>0</td>\n",
       "      <td>Graduate</td>\n",
       "      <td>Yes</td>\n",
       "      <td>3000</td>\n",
       "      <td>0.0</td>\n",
       "      <td>66.0</td>\n",
       "      <td>360.0</td>\n",
       "      <td>1.0</td>\n",
       "      <td>Urban</td>\n",
       "      <td>Y</td>\n",
       "    </tr>\n",
       "    <tr>\n",
       "      <th>3</th>\n",
       "      <td>LP001006</td>\n",
       "      <td>Male</td>\n",
       "      <td>Yes</td>\n",
       "      <td>0</td>\n",
       "      <td>Not Graduate</td>\n",
       "      <td>No</td>\n",
       "      <td>2583</td>\n",
       "      <td>2358.0</td>\n",
       "      <td>120.0</td>\n",
       "      <td>360.0</td>\n",
       "      <td>1.0</td>\n",
       "      <td>Urban</td>\n",
       "      <td>Y</td>\n",
       "    </tr>\n",
       "    <tr>\n",
       "      <th>4</th>\n",
       "      <td>LP001008</td>\n",
       "      <td>Male</td>\n",
       "      <td>No</td>\n",
       "      <td>0</td>\n",
       "      <td>Graduate</td>\n",
       "      <td>No</td>\n",
       "      <td>6000</td>\n",
       "      <td>0.0</td>\n",
       "      <td>141.0</td>\n",
       "      <td>360.0</td>\n",
       "      <td>1.0</td>\n",
       "      <td>Urban</td>\n",
       "      <td>Y</td>\n",
       "    </tr>\n",
       "  </tbody>\n",
       "</table>\n",
       "</div>"
      ],
      "text/plain": [
       "    Loan_ID Gender Married Dependents     Education Self_Employed  \\\n",
       "0  LP001002   Male      No          0      Graduate            No   \n",
       "1  LP001003   Male     Yes          1      Graduate            No   \n",
       "2  LP001005   Male     Yes          0      Graduate           Yes   \n",
       "3  LP001006   Male     Yes          0  Not Graduate            No   \n",
       "4  LP001008   Male      No          0      Graduate            No   \n",
       "\n",
       "   ApplicantIncome  CoapplicantIncome  LoanAmount  Loan_Amount_Term  \\\n",
       "0             5849                0.0         NaN             360.0   \n",
       "1             4583             1508.0       128.0             360.0   \n",
       "2             3000                0.0        66.0             360.0   \n",
       "3             2583             2358.0       120.0             360.0   \n",
       "4             6000                0.0       141.0             360.0   \n",
       "\n",
       "   Credit_History Property_Area Loan_Status  \n",
       "0             1.0         Urban           Y  \n",
       "1             1.0         Rural           N  \n",
       "2             1.0         Urban           Y  \n",
       "3             1.0         Urban           Y  \n",
       "4             1.0         Urban           Y  "
      ]
     },
     "execution_count": 139,
     "metadata": {},
     "output_type": "execute_result"
    }
   ],
   "source": [
    "df = pd.read_csv(\"data.csv\")\n",
    "df.head()"
   ]
  },
  {
   "cell_type": "markdown",
   "id": "2b1ac546",
   "metadata": {},
   "source": [
    "##### Dropping Loan_ID since this column is a primary key and an irrelevant feature."
   ]
  },
  {
   "cell_type": "code",
   "execution_count": 140,
   "id": "f3ee8863",
   "metadata": {},
   "outputs": [
    {
     "name": "stdout",
     "output_type": "stream",
     "text": [
      "(614, 12)\n",
      "<class 'pandas.core.frame.DataFrame'>\n",
      "RangeIndex: 614 entries, 0 to 613\n",
      "Data columns (total 12 columns):\n",
      " #   Column             Non-Null Count  Dtype  \n",
      "---  ------             --------------  -----  \n",
      " 0   Gender             601 non-null    object \n",
      " 1   Married            611 non-null    object \n",
      " 2   Dependents         599 non-null    object \n",
      " 3   Education          614 non-null    object \n",
      " 4   Self_Employed      582 non-null    object \n",
      " 5   ApplicantIncome    614 non-null    int64  \n",
      " 6   CoapplicantIncome  614 non-null    float64\n",
      " 7   LoanAmount         592 non-null    float64\n",
      " 8   Loan_Amount_Term   600 non-null    float64\n",
      " 9   Credit_History     564 non-null    float64\n",
      " 10  Property_Area      614 non-null    object \n",
      " 11  Loan_Status        614 non-null    object \n",
      "dtypes: float64(4), int64(1), object(7)\n",
      "memory usage: 57.7+ KB\n"
     ]
    }
   ],
   "source": [
    "df= df.drop(\"Loan_ID\", axis='columns')\n",
    "print(df.shape)\n",
    "df.info()"
   ]
  },
  {
   "cell_type": "markdown",
   "id": "6e000746",
   "metadata": {},
   "source": [
    "### Descriptive Statistics"
   ]
  },
  {
   "cell_type": "code",
   "execution_count": 141,
   "id": "ad3eba8f",
   "metadata": {},
   "outputs": [
    {
     "name": "stdout",
     "output_type": "stream",
     "text": [
      "Descriptive Statistics of Loan_Status:\n",
      "count     614\n",
      "unique      2\n",
      "top         Y\n",
      "freq      422\n",
      "Name: Loan_Status, dtype: object\n",
      "\n",
      "Descriptive Statistics of Independent Variables:\n",
      "       ApplicantIncome  CoapplicantIncome  LoanAmount  Loan_Amount_Term  \\\n",
      "count       614.000000         614.000000  592.000000         600.00000   \n",
      "mean       5403.459283        1621.245798  146.412162         342.00000   \n",
      "std        6109.041673        2926.248369   85.587325          65.12041   \n",
      "min         150.000000           0.000000    9.000000          12.00000   \n",
      "25%        2877.500000           0.000000  100.000000         360.00000   \n",
      "50%        3812.500000        1188.500000  128.000000         360.00000   \n",
      "75%        5795.000000        2297.250000  168.000000         360.00000   \n",
      "max       81000.000000       41667.000000  700.000000         480.00000   \n",
      "\n",
      "       Credit_History  \n",
      "count      564.000000  \n",
      "mean         0.842199  \n",
      "std          0.364878  \n",
      "min          0.000000  \n",
      "25%          1.000000  \n",
      "50%          1.000000  \n",
      "75%          1.000000  \n",
      "max          1.000000  \n"
     ]
    }
   ],
   "source": [
    "# Compute descriptive statistics of the dependent variable\n",
    "print(\"Descriptive Statistics of Loan_Status:\")\n",
    "print(df['Loan_Status'].describe())\n",
    "\n",
    "# Compute descriptive statistics of the independent variables\n",
    "print(\"\\nDescriptive Statistics of Independent Variables:\")\n",
    "print(df.drop('Loan_Status', axis=1).describe())"
   ]
  },
  {
   "cell_type": "markdown",
   "id": "10969b63",
   "metadata": {},
   "source": [
    "### Checking for and dealing with missing values"
   ]
  },
  {
   "cell_type": "code",
   "execution_count": 142,
   "id": "4e191185",
   "metadata": {},
   "outputs": [
    {
     "name": "stdout",
     "output_type": "stream",
     "text": [
      "Gender               13\n",
      "Married               3\n",
      "Dependents           15\n",
      "Education             0\n",
      "Self_Employed        32\n",
      "ApplicantIncome       0\n",
      "CoapplicantIncome     0\n",
      "LoanAmount           22\n",
      "Loan_Amount_Term     14\n",
      "Credit_History       50\n",
      "Property_Area         0\n",
      "Loan_Status           0\n",
      "dtype: int64\n"
     ]
    }
   ],
   "source": [
    "print(df.isnull().sum())"
   ]
  },
  {
   "cell_type": "markdown",
   "id": "64d1989a",
   "metadata": {},
   "source": [
    "We handle na values differently for different columns. \n",
    "\n",
    "For categorical data, we replace them with the mode of the column.<br>\n",
    "For numerical data, we use the median of the column."
   ]
  },
  {
   "cell_type": "code",
   "execution_count": 143,
   "id": "55e5bd5d",
   "metadata": {},
   "outputs": [],
   "source": [
    "df['Gender'].fillna(df['Gender'].mode()[0], inplace=True)\n",
    "df['Married'].fillna(df['Married'].mode()[0], inplace=True)\n",
    "df['Dependents'].fillna(df['Dependents'].mode()[0], inplace=True)\n",
    "df['Self_Employed'].fillna(df['Self_Employed'].mode()[0], inplace=True)\n",
    "df['LoanAmount'].fillna(df['LoanAmount'].median(), inplace=True)\n",
    "df['Loan_Amount_Term'].fillna(df['Loan_Amount_Term'].mode()[0], inplace=True)\n",
    "df['Credit_History'].fillna(df['Credit_History'].mode()[0], inplace=True)"
   ]
  },
  {
   "cell_type": "markdown",
   "id": "bea4c7f5",
   "metadata": {},
   "source": [
    "### Outlier detection and handling using IQR method\n",
    "In the IQR method, any values that lie outside the lower and upper thersholds are labelled as outliers. The value for the upper and lower limits are calculated using the Interquartile Range of the Data. All the outliers detected through this method are then replaced by the median of the respective columns in the code below."
   ]
  },
  {
   "cell_type": "code",
   "execution_count": 144,
   "id": "c6d6f1b9",
   "metadata": {},
   "outputs": [
    {
     "name": "stdout",
     "output_type": "stream",
     "text": [
      "2877.5 5795.0 2917.5 -1498.75 7253.75\n",
      "0.0 2297.25 2297.25 -3445.875 3445.875\n",
      "100.25 164.75 64.5 3.5 197.0\n"
     ]
    }
   ],
   "source": [
    "num_cols = ['ApplicantIncome', 'CoapplicantIncome', 'LoanAmount'] #columns with numerical data\n",
    "for col in num_cols:\n",
    "    Q1 = df[col].quantile(0.25)\n",
    "    Q3 = df[col].quantile(0.75)\n",
    "    IQR = Q3 - Q1\n",
    "    lower = Q1 - 1.5 * IQR\n",
    "    upper = Q3 + 0.5 * IQR\n",
    "    print(Q1,Q3,IQR,lower, upper)\n",
    "    df.loc[((df[col] < lower) | (df[col] > upper)), col] = df[col].median()"
   ]
  },
  {
   "cell_type": "markdown",
   "id": "e56d2163",
   "metadata": {},
   "source": [
    "### One-hot encoding for categorical columns\n",
    "\n",
    "Converting categorical data to numeric form using one-hot encoding. One-hot encoding is a process of representing categorical data as numerical data that can be easily processed by machine learning algorithms. In one-hot encoding, each categorical value is represented by a binary vector, where all the elements are zero except the element corresponding to the value, which is set to one. One-hot encoding is useful because it allows machine learning algorithms to better understand categorical data and make predictions based on it."
   ]
  },
  {
   "cell_type": "code",
   "execution_count": 145,
   "id": "523574cd",
   "metadata": {},
   "outputs": [
    {
     "data": {
      "text/html": [
       "<div>\n",
       "<style scoped>\n",
       "    .dataframe tbody tr th:only-of-type {\n",
       "        vertical-align: middle;\n",
       "    }\n",
       "\n",
       "    .dataframe tbody tr th {\n",
       "        vertical-align: top;\n",
       "    }\n",
       "\n",
       "    .dataframe thead th {\n",
       "        text-align: right;\n",
       "    }\n",
       "</style>\n",
       "<table border=\"1\" class=\"dataframe\">\n",
       "  <thead>\n",
       "    <tr style=\"text-align: right;\">\n",
       "      <th></th>\n",
       "      <th>ApplicantIncome</th>\n",
       "      <th>CoapplicantIncome</th>\n",
       "      <th>LoanAmount</th>\n",
       "      <th>Loan_Amount_Term</th>\n",
       "      <th>Credit_History</th>\n",
       "      <th>Gender_Male</th>\n",
       "      <th>Married_Yes</th>\n",
       "      <th>Dependents_1</th>\n",
       "      <th>Dependents_2</th>\n",
       "      <th>Dependents_3+</th>\n",
       "      <th>Education_Not Graduate</th>\n",
       "      <th>Self_Employed_Yes</th>\n",
       "      <th>Property_Area_Semiurban</th>\n",
       "      <th>Property_Area_Urban</th>\n",
       "      <th>Loan_Status_Y</th>\n",
       "    </tr>\n",
       "  </thead>\n",
       "  <tbody>\n",
       "    <tr>\n",
       "      <th>0</th>\n",
       "      <td>5849.0</td>\n",
       "      <td>0.0</td>\n",
       "      <td>128.0</td>\n",
       "      <td>360.0</td>\n",
       "      <td>1.0</td>\n",
       "      <td>1</td>\n",
       "      <td>0</td>\n",
       "      <td>0</td>\n",
       "      <td>0</td>\n",
       "      <td>0</td>\n",
       "      <td>0</td>\n",
       "      <td>0</td>\n",
       "      <td>0</td>\n",
       "      <td>1</td>\n",
       "      <td>1</td>\n",
       "    </tr>\n",
       "    <tr>\n",
       "      <th>1</th>\n",
       "      <td>4583.0</td>\n",
       "      <td>1508.0</td>\n",
       "      <td>128.0</td>\n",
       "      <td>360.0</td>\n",
       "      <td>1.0</td>\n",
       "      <td>1</td>\n",
       "      <td>1</td>\n",
       "      <td>1</td>\n",
       "      <td>0</td>\n",
       "      <td>0</td>\n",
       "      <td>0</td>\n",
       "      <td>0</td>\n",
       "      <td>0</td>\n",
       "      <td>0</td>\n",
       "      <td>0</td>\n",
       "    </tr>\n",
       "    <tr>\n",
       "      <th>2</th>\n",
       "      <td>3000.0</td>\n",
       "      <td>0.0</td>\n",
       "      <td>66.0</td>\n",
       "      <td>360.0</td>\n",
       "      <td>1.0</td>\n",
       "      <td>1</td>\n",
       "      <td>1</td>\n",
       "      <td>0</td>\n",
       "      <td>0</td>\n",
       "      <td>0</td>\n",
       "      <td>0</td>\n",
       "      <td>1</td>\n",
       "      <td>0</td>\n",
       "      <td>1</td>\n",
       "      <td>1</td>\n",
       "    </tr>\n",
       "  </tbody>\n",
       "</table>\n",
       "</div>"
      ],
      "text/plain": [
       "   ApplicantIncome  CoapplicantIncome  LoanAmount  Loan_Amount_Term  \\\n",
       "0           5849.0                0.0       128.0             360.0   \n",
       "1           4583.0             1508.0       128.0             360.0   \n",
       "2           3000.0                0.0        66.0             360.0   \n",
       "\n",
       "   Credit_History  Gender_Male  Married_Yes  Dependents_1  Dependents_2  \\\n",
       "0             1.0            1            0             0             0   \n",
       "1             1.0            1            1             1             0   \n",
       "2             1.0            1            1             0             0   \n",
       "\n",
       "   Dependents_3+  Education_Not Graduate  Self_Employed_Yes  \\\n",
       "0              0                       0                  0   \n",
       "1              0                       0                  0   \n",
       "2              0                       0                  1   \n",
       "\n",
       "   Property_Area_Semiurban  Property_Area_Urban  Loan_Status_Y  \n",
       "0                        0                    1              1  \n",
       "1                        0                    0              0  \n",
       "2                        0                    1              1  "
      ]
     },
     "execution_count": 145,
     "metadata": {},
     "output_type": "execute_result"
    }
   ],
   "source": [
    "obj_col = df.select_dtypes('object').columns\n",
    "df = pd.get_dummies(df, columns=obj_col, drop_first=True)\n",
    "df.head(3)"
   ]
  },
  {
   "cell_type": "markdown",
   "id": "873a5f06",
   "metadata": {},
   "source": [
    "### Scale the numerical features using StandardScaler"
   ]
  },
  {
   "cell_type": "code",
   "execution_count": 146,
   "id": "f05dc021",
   "metadata": {},
   "outputs": [
    {
     "data": {
      "text/html": [
       "<div>\n",
       "<style scoped>\n",
       "    .dataframe tbody tr th:only-of-type {\n",
       "        vertical-align: middle;\n",
       "    }\n",
       "\n",
       "    .dataframe tbody tr th {\n",
       "        vertical-align: top;\n",
       "    }\n",
       "\n",
       "    .dataframe thead th {\n",
       "        text-align: right;\n",
       "    }\n",
       "</style>\n",
       "<table border=\"1\" class=\"dataframe\">\n",
       "  <thead>\n",
       "    <tr style=\"text-align: right;\">\n",
       "      <th></th>\n",
       "      <th>ApplicantIncome</th>\n",
       "      <th>CoapplicantIncome</th>\n",
       "      <th>LoanAmount</th>\n",
       "      <th>Loan_Amount_Term</th>\n",
       "      <th>Credit_History</th>\n",
       "      <th>Gender_Male</th>\n",
       "      <th>Married_Yes</th>\n",
       "      <th>Dependents_1</th>\n",
       "      <th>Dependents_2</th>\n",
       "      <th>Dependents_3+</th>\n",
       "      <th>Education_Not Graduate</th>\n",
       "      <th>Self_Employed_Yes</th>\n",
       "      <th>Property_Area_Semiurban</th>\n",
       "      <th>Property_Area_Urban</th>\n",
       "      <th>Loan_Status_Y</th>\n",
       "    </tr>\n",
       "  </thead>\n",
       "  <tbody>\n",
       "    <tr>\n",
       "      <th>0</th>\n",
       "      <td>1.671275</td>\n",
       "      <td>-0.967135</td>\n",
       "      <td>0.196007</td>\n",
       "      <td>0.273231</td>\n",
       "      <td>1.0</td>\n",
       "      <td>1</td>\n",
       "      <td>0</td>\n",
       "      <td>0</td>\n",
       "      <td>0</td>\n",
       "      <td>0</td>\n",
       "      <td>0</td>\n",
       "      <td>0</td>\n",
       "      <td>0</td>\n",
       "      <td>1</td>\n",
       "      <td>1</td>\n",
       "    </tr>\n",
       "    <tr>\n",
       "      <th>1</th>\n",
       "      <td>0.674480</td>\n",
       "      <td>0.502791</td>\n",
       "      <td>0.196007</td>\n",
       "      <td>0.273231</td>\n",
       "      <td>1.0</td>\n",
       "      <td>1</td>\n",
       "      <td>1</td>\n",
       "      <td>1</td>\n",
       "      <td>0</td>\n",
       "      <td>0</td>\n",
       "      <td>0</td>\n",
       "      <td>0</td>\n",
       "      <td>0</td>\n",
       "      <td>0</td>\n",
       "      <td>0</td>\n",
       "    </tr>\n",
       "    <tr>\n",
       "      <th>2</th>\n",
       "      <td>-0.571907</td>\n",
       "      <td>-0.967135</td>\n",
       "      <td>-1.597218</td>\n",
       "      <td>0.273231</td>\n",
       "      <td>1.0</td>\n",
       "      <td>1</td>\n",
       "      <td>1</td>\n",
       "      <td>0</td>\n",
       "      <td>0</td>\n",
       "      <td>0</td>\n",
       "      <td>0</td>\n",
       "      <td>1</td>\n",
       "      <td>0</td>\n",
       "      <td>1</td>\n",
       "      <td>1</td>\n",
       "    </tr>\n",
       "  </tbody>\n",
       "</table>\n",
       "</div>"
      ],
      "text/plain": [
       "   ApplicantIncome  CoapplicantIncome  LoanAmount  Loan_Amount_Term  \\\n",
       "0         1.671275          -0.967135    0.196007          0.273231   \n",
       "1         0.674480           0.502791    0.196007          0.273231   \n",
       "2        -0.571907          -0.967135   -1.597218          0.273231   \n",
       "\n",
       "   Credit_History  Gender_Male  Married_Yes  Dependents_1  Dependents_2  \\\n",
       "0             1.0            1            0             0             0   \n",
       "1             1.0            1            1             1             0   \n",
       "2             1.0            1            1             0             0   \n",
       "\n",
       "   Dependents_3+  Education_Not Graduate  Self_Employed_Yes  \\\n",
       "0              0                       0                  0   \n",
       "1              0                       0                  0   \n",
       "2              0                       0                  1   \n",
       "\n",
       "   Property_Area_Semiurban  Property_Area_Urban  Loan_Status_Y  \n",
       "0                        0                    1              1  \n",
       "1                        0                    0              0  \n",
       "2                        0                    1              1  "
      ]
     },
     "execution_count": 146,
     "metadata": {},
     "output_type": "execute_result"
    }
   ],
   "source": [
    "scaler = StandardScaler()\n",
    "num_cols = ['ApplicantIncome', 'CoapplicantIncome', 'LoanAmount', 'Loan_Amount_Term']\n",
    "df[num_cols] = scaler.fit_transform(df[num_cols])\n",
    "df.head(3)"
   ]
  },
  {
   "cell_type": "markdown",
   "id": "68d75b9c",
   "metadata": {},
   "source": [
    "## Split the dataset into training and testing sets"
   ]
  },
  {
   "cell_type": "code",
   "execution_count": 147,
   "id": "f6dba423",
   "metadata": {},
   "outputs": [],
   "source": [
    "X = df.drop(['Loan_Status_Y'], axis=1)\n",
    "y = df['Loan_Status_Y']\n",
    "X_train, X_test, y_train, y_test = train_test_split(X, y, test_size=0.2, random_state=42)"
   ]
  },
  {
   "cell_type": "markdown",
   "id": "b8a6a543",
   "metadata": {},
   "source": [
    "## KNN Model"
   ]
  },
  {
   "cell_type": "markdown",
   "id": "e1cbd4e6",
   "metadata": {},
   "source": [
    "### Finding best fit K value"
   ]
  },
  {
   "cell_type": "code",
   "execution_count": 148,
   "id": "3bf86cee",
   "metadata": {},
   "outputs": [],
   "source": [
    "error_rate=[]#list that will store the average error rate value of k\n",
    "for i in range (1,31):  #Took the range of k from 1 to 30\n",
    "    knn=KNeighborsClassifier(n_neighbors=i)\n",
    "    knn.fit(X_train,y_train)\n",
    "    y_pred=knn.predict(X_test)\n",
    "    error_rate.append(np.mean(y_pred!=y_test))"
   ]
  },
  {
   "cell_type": "code",
   "execution_count": 149,
   "id": "7c296f16",
   "metadata": {},
   "outputs": [
    {
     "data": {
      "image/png": "[encoded data removed]",
      "text/plain": [
       "<Figure size 1200x600 with 1 Axes>"
      ]
     },
     "metadata": {},
     "output_type": "display_data"
    }
   ],
   "source": [
    "#plotting the error rate vs k graph\n",
    "plt.figure(figsize=(12,6))\n",
    "plt.plot(range(1,31),error_rate,marker=\"o\",markerfacecolor=\"green\",\n",
    "     linestyle=\"dashed\",color=\"red\",markersize=15)\n",
    "plt.title(\"Error rate vs k value\",fontsize=20)\n",
    "plt.xlabel(\"k- values\",fontsize=20)\n",
    "plt.ylabel(\"error rate\",fontsize=20)\n",
    "plt.xticks(range(1,31))\n",
    "plt.show()"
   ]
  },
  {
   "cell_type": "markdown",
   "id": "4f96a0f8",
   "metadata": {},
   "source": [
    "  ### We observe that error is minimum at k=10 and therefore use this value in training"
   ]
  },
  {
   "cell_type": "code",
   "execution_count": 150,
   "id": "6c5a3d15",
   "metadata": {},
   "outputs": [],
   "source": [
    "knn = KNeighborsClassifier(n_neighbors=10)\n",
    "knn.fit(X_train, y_train)\n",
    "\n",
    "y_pred_knn = knn.predict(X_test)"
   ]
  },
  {
   "cell_type": "markdown",
   "id": "539c82ef",
   "metadata": {},
   "source": [
    "### KNN Performance Metrics"
   ]
  },
  {
   "cell_type": "code",
   "execution_count": 151,
   "id": "5193ed76",
   "metadata": {},
   "outputs": [
    {
     "name": "stdout",
     "output_type": "stream",
     "text": [
      "0.6910569105691057 0.6842105263157895 0.975 0.8041237113402062\n"
     ]
    },
    {
     "data": {
      "image/png": "[encoded data removed]",
      "text/plain": [
       "<Figure size 640x480 with 2 Axes>"
      ]
     },
     "metadata": {},
     "output_type": "display_data"
    },
    {
     "data": {
      "text/plain": [
       "(3, 40, 0, 80)"
      ]
     },
     "execution_count": 151,
     "metadata": {},
     "output_type": "execute_result"
    }
   ],
   "source": [
    "knn_accuracy = accuracy_score(y_test, y_pred_knn)\n",
    "knn_precision = precision_score(y_test, y_pred_knn)\n",
    "knn_recall = recall_score(y_test, y_pred_knn)\n",
    "knn_f1_score = f1_score(y_test, y_pred_knn)\n",
    "print(knn_accuracy, knn_precision, knn_recall, knn_f1_score)\n",
    "\n",
    "\n",
    "cm = confusion_matrix(y_test, y_pred)\n",
    "sns.heatmap(cm, annot=True, cmap='Blues')\n",
    "plt.title('Confusion Matrix')\n",
    "plt.show()\n",
    "tn,fp,fn,tp = confusion_matrix(y_test, y_pred).ravel()\n",
    "tn,fp,fn,tp"
   ]
  },
  {
   "cell_type": "markdown",
   "id": "6cbcd5c6",
   "metadata": {},
   "source": [
    "## Decision Tree Model"
   ]
  },
  {
   "cell_type": "code",
   "execution_count": 152,
   "id": "f9118c1d",
   "metadata": {},
   "outputs": [],
   "source": [
    "dt = DecisionTreeClassifier(random_state=42)\n",
    "dt.fit(X_train, y_train)\n",
    "\n",
    "y_pred_dt = dt.predict(X_test)"
   ]
  },
  {
   "cell_type": "markdown",
   "id": "7be6e428",
   "metadata": {},
   "source": [
    "### DT Performance Metrics"
   ]
  },
  {
   "cell_type": "code",
   "execution_count": 153,
   "id": "d826d42a",
   "metadata": {},
   "outputs": [
    {
     "name": "stdout",
     "output_type": "stream",
     "text": [
      "0.6991869918699187 0.7721518987341772 0.7625 0.7672955974842767\n"
     ]
    },
    {
     "data": {
      "image/png": "[encoded data removed]",
      "text/plain": [
       "<Figure size 640x480 with 2 Axes>"
      ]
     },
     "metadata": {},
     "output_type": "display_data"
    },
    {
     "data": {
      "text/plain": [
       "(3, 40, 0, 80)"
      ]
     },
     "execution_count": 153,
     "metadata": {},
     "output_type": "execute_result"
    }
   ],
   "source": [
    "dt_accuracy = accuracy_score(y_test, y_pred_dt)\n",
    "dt_precision = precision_score(y_test, y_pred_dt)\n",
    "dt_recall = recall_score(y_test, y_pred_dt)\n",
    "dt_f1_score = f1_score(y_test, y_pred_dt)\n",
    "print(dt_accuracy, dt_precision, dt_recall, dt_f1_score)\n",
    "\n",
    "cm = confusion_matrix(y_test, y_pred)\n",
    "sns.heatmap(cm, annot=True, cmap='Blues')\n",
    "plt.title('Confusion Matrix')\n",
    "plt.show()\n",
    "tn,fp,fn,tp = confusion_matrix(y_test, y_pred).ravel()\n",
    "tn,fp,fn,tp"
   ]
  },
  {
   "cell_type": "markdown",
   "id": "d31e0dc7",
   "metadata": {},
   "source": [
    "# Conclusion\n",
    "\n",
    "Performance metrics are used to evaluate the performance of a machine learning model. These metrics provide a quantitative measure of how well the model is performing in terms of its ability to accurately predict the target variable.\n",
    "\n",
    "1) Accuracy is one of the most commonly used performance metrics. It measures the percentage of correct predictions made by the model. High accuracy indicates that the model is making accurate predictions and is a good fit for the dataset.\n",
    "\n",
    "2) Precision measures the percentage of correct positive predictions made by the model. It is important when the cost of a false positive is high. For example, in a medical diagnosis, the cost of a false positive could be high, as it may lead to unnecessary treatment. Therefore, high precision is desirable in such cases.\n",
    "\n",
    "3) Recall measures the percentage of actual positive instances that were correctly identified by the model. It is important when the cost of a false negative is high. For example, in fraud detection, the cost of a false negative could be high, as it may result in the fraudulent activity going undetected. Therefore, high recall is desirable in such cases.\n",
    "\n",
    "4) F1-score is a measure of the balance between precision and recall. It takes into account both metrics and provides a single measure of how well the model is performing. A high F1-score indicates that the model is making accurate predictions and is well balanced between precision and recall.\n",
    "\n",
    "<br>\n",
    "\n",
    "In summary, performance metrics are critical in evaluating the performance of a machine learning model. These metrics help us understand how well the model is performing and identify areas where it can be improved. By using appropriate performance metrics, we can build models that are better suited for the problem at hand."
   ]
  },
  {
   "cell_type": "markdown",
   "id": "361095aa",
   "metadata": {},
   "source": [
    "## KNN vs DT Comparison"
   ]
  },
  {
   "cell_type": "code",
   "execution_count": 154,
   "id": "51a4640c",
   "metadata": {},
   "outputs": [
    {
     "name": "stdout",
     "output_type": "stream",
     "text": [
      "╒═══════════════╤════════════╤═════════════╤══════════╤════════════╕\n",
      "│ Model         │   Accuracy │   Precision │   Recall │   F1-Score │\n",
      "╞═══════════════╪════════════╪═════════════╪══════════╪════════════╡\n",
      "│ KNN           │   0.691057 │    0.684211 │   0.975  │   0.804124 │\n",
      "├───────────────┼────────────┼─────────────┼──────────┼────────────┤\n",
      "│ Decision Tree │   0.699187 │    0.772152 │   0.7625 │   0.767296 │\n",
      "╘═══════════════╧════════════╧═════════════╧══════════╧════════════╛\n"
     ]
    }
   ],
   "source": [
    "headers = [\"Model\", \"Accuracy\", \"Precision\", \"Recall\", \"F1-Score\"]\n",
    "table = [[\"KNN\", knn_accuracy, knn_precision, knn_recall, knn_f1_score],\n",
    "         [\"Decision Tree\", dt_accuracy, dt_precision, dt_recall, dt_f1_score]]\n",
    "\n",
    "print(tabulate(table, headers, tablefmt=\"fancy_grid\"))"
   ]
  },
  {
   "cell_type": "markdown",
   "id": "035ac9a9",
   "metadata": {},
   "source": [
    "Based on the above table, we can derive the following conclusions comparing the performance metrics of KNN and Decision Tree classifiers:\n",
    "\n",
    "1) Accuracy: The Decision Tree classifier performs slightly better than the KNN classifier with an accuracy of 0.699187 compared to 0.691057 for KNN.\n",
    "\n",
    "2) Precision: The Decision Tree classifier outperforms the KNN classifier with a precision of 0.772152 compared to 0.684211 for KNN.\n",
    "\n",
    "3) Recall: KNN has a higher recall of 0.975 compared to 0.7625 for the Decision Tree classifier, indicating that KNN is better at identifying true positives.\n",
    "\n",
    "4) F1-Score: KNN also has a slightly higher F1-Score of 0.804124 compared to 0.767296 for the Decision Tree classifier.\n",
    "\n",
    "\n",
    "\n",
    "\n",
    "\n",
    "\n",
    "#### Overall, we can conclude that while KNN may have a higher recall and F1-Score, the Decision Tree classifier performs better in terms of accuracy and precision. Therefore, the choice between the two classifiers would depend on the specific requirements of the problem at hand.\n"
   ]
  }
 ],
 "metadata": {
  "kernelspec": {
   "display_name": "Python 3 (ipykernel)",
   "language": "python",
   "name": "python3"
  },
  "language_info": {
   "codemirror_mode": {
    "name": "ipython",
    "version": 3
   },
   "file_extension": ".py",
   "mimetype": "text/x-python",
   "name": "python",
   "nbconvert_exporter": "python",
   "pygments_lexer": "ipython3",
   "version": "3.9.7"
  }
 },
 "nbformat": 4,
 "nbformat_minor": 5
}
